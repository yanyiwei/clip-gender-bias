{
  "cells": [
    {
      "cell_type": "code",
      "execution_count": null,
      "metadata": {
        "colab": {
          "base_uri": "https://localhost:8080/"
        },
        "id": "nik10e0gGEGm",
        "outputId": "9ea5a15d-5c73-47d6-e0a2-4ce1024c537a"
      },
      "outputs": [],
      "source": [
        "!nvidia-smi\n",
        "import os\n",
        "os.environ[\"CUDA_VISIBLE_DEVICES\"] = \"\""
      ]
    },
    {
      "cell_type": "code",
      "execution_count": null,
      "metadata": {
        "colab": {
          "base_uri": "https://localhost:8080/"
        },
        "id": "X--QLtz1NXn6",
        "outputId": "1b073048-b8e8-4bcd-e7de-d349a5aef5b9"
      },
      "outputs": [],
      "source": [
        "!pip install open_clip_torch matplotlib"
      ]
    },
    {
      "cell_type": "code",
      "execution_count": 17,
      "metadata": {
        "id": "xf8jcU3WNby5"
      },
      "outputs": [],
      "source": [
        "import numpy as np\n",
        "import torch"
      ]
    },
    {
      "cell_type": "code",
      "execution_count": 19,
      "metadata": {
        "id": "xyOOIJTqNfCD"
      },
      "outputs": [],
      "source": [
        "import open_clip\n",
        "open_clip.list_pretrained()\n",
        "device = torch.device(\"cuda\" if torch.cuda.is_available() else \"cpu\")"
      ]
    },
    {
      "cell_type": "code",
      "execution_count": null,
      "metadata": {
        "colab": {
          "base_uri": "https://localhost:8080/"
        },
        "id": "i5cPZjLiYP4R",
        "outputId": "61077dfb-097e-4a48-9ea4-a9788e210128"
      },
      "outputs": [],
      "source": [
        "!git clone https://github.com/crowsonkb/cloob-training\n",
        "!pip install git+https://github.com/openai/CLIP.git"
      ]
    },
    {
      "cell_type": "code",
      "execution_count": null,
      "metadata": {
        "colab": {
          "base_uri": "https://localhost:8080/"
        },
        "id": "c9mUJLBcYYei",
        "outputId": "341cfee1-635b-41bc-d72b-14f18cc85072"
      },
      "outputs": [],
      "source": [
        "%cd /content/cloob-training/\n",
        "!pip install -r requirements.txt\n",
        "from cloob_training import model_pt, pretrained\n",
        "\n",
        "pretrained.list_configs()"
      ]
    },
    {
      "cell_type": "code",
      "execution_count": null,
      "metadata": {
        "colab": {
          "base_uri": "https://localhost:8080/",
          "height": 66,
          "referenced_widgets": [
            "7ee70e1f913647ff9d8b4213b235e3c9",
            "634a87bebbbf48e1974af78ed83531f5",
            "809f1ea6171c4f26b8dc8164d98290a6",
            "115bc3229cde4e189fdfacc237b93464",
            "fca5deff846640578a6dd5427647d2a7",
            "15cb222ea415432b970bd4fa1aabf4b0",
            "798a84ce1c324a159688089990ef4be2",
            "7d17463c00f544e882e71a826f57bd2d",
            "c3f5083c6c39468698ed2c2b0c0c4d82",
            "b1ac6c2c1c0b4bb3845f34c1416accdb",
            "cba9d574ddf94fe9a1fc30d7b85d8ceb"
          ]
        },
        "id": "Aa3mcLxsYgPj",
        "outputId": "a1b51a93-4f5d-47d7-d4ce-01fc6cf97ec2"
      },
      "outputs": [],
      "source": [
        "config = pretrained.get_config('cloob_laion_400m_vit_b_16_32_epochs')\n",
        "model = model_pt.get_pt_model(config)\n",
        "\n",
        "checkpoint = pretrained.download_checkpoint(config)\n",
        "model.load_state_dict(model_pt.get_pt_params(config, checkpoint))\n",
        "\n",
        "model.eval().requires_grad_(False)#.to('cuda')\n",
        "model.normalize"
      ]
    },
    {
      "cell_type": "code",
      "execution_count": 24,
      "metadata": {
        "id": "uGzW43YqNkem"
      },
      "outputs": [],
      "source": [
        "image_size = (224,224)\n",
        "\n",
        "def _convert_to_rgb(image):\n",
        "    return image.convert('RGB')\n",
        "\n",
        "t_form = Compose([\n",
        "            Resize(image_size, interpolation=InterpolationMode.BICUBIC),\n",
        "            CenterCrop(image_size),\n",
        "            _convert_to_rgb,\n",
        "            ToTensor()])"
      ]
    },
    {
      "cell_type": "code",
      "execution_count": null,
      "metadata": {
        "colab": {
          "base_uri": "https://localhost:8080/"
        },
        "id": "vAU-N6D2T3J3",
        "outputId": "7a871779-0a71-4b90-a23a-2b84253a517c"
      },
      "outputs": [],
      "source": [
        "from google.colab import drive\n",
        "drive.mount('/content/drive')"
      ]
    },
    {
      "cell_type": "code",
      "execution_count": 26,
      "metadata": {
        "id": "Sy7ntrRvNo9n"
      },
      "outputs": [],
      "source": [
        "import pandas as pd\n",
        "\n",
        "#Define text stimuli\n",
        "female = ['female', 'woman', 'girl', 'sister', 'she', 'her', 'hers', 'daughter']\n",
        "male = ['male', 'man', 'boy', 'brother', 'he', 'him', 'his', 'son']\n",
        "all_words = female + male\n",
        "\n",
        "embeddings = []\n",
        "\n",
        "for word in all_words:\n",
        "  with torch.no_grad():\n",
        "    tokens = model.tokenize([word])\n",
        "    emb = model.text_encoder(tokens).numpy().squeeze()\n",
        "    embeddings.append(emb)\n",
        "\n",
        "emb_arr = np.array(embeddings)\n",
        "emb_df = pd.DataFrame(emb_arr,index=all_words)\n",
        "emb_df.to_csv(f'/content/drive/My Drive/cloob/clip_cloob_emb_df_language.vec',sep=' ')"
      ]
    },
    {
      "cell_type": "code",
      "execution_count": null,
      "metadata": {
        "colab": {
          "base_uri": "https://localhost:8080/"
        },
        "id": "chlmfthbNzXy",
        "outputId": "a3150df3-6c6a-4a91-cb12-c32ebcbfaf53"
      },
      "outputs": [],
      "source": [
        "from PIL import Image\n",
        "from os import listdir\n",
        "from torchvision import transforms, datasets, models\n",
        "from torchvision.transforms import Normalize, Compose, RandomResizedCrop, InterpolationMode, ToTensor, Resize, \\\n",
        "    CenterCrop\n",
        "\n",
        "SOURCE_DIR = f'/content/drive/My Drive/OASIS/images/'\n",
        "\n",
        "targets = listdir(SOURCE_DIR)\n",
        "embeddings = []\n",
        "\n",
        "for target in targets:\n",
        "\n",
        "  print(target)\n",
        "\n",
        "  img = Image.open(f'{SOURCE_DIR}{target}')\n",
        "  img_ = t_form(img)\n",
        "  input_ = model.normalize(img_).unsqueeze(0)\n",
        "  emb = model.image_encoder(input_).numpy().squeeze()\n",
        "  embeddings.append(emb)\n",
        "\n",
        "emb_arr = np.array(embeddings)\n",
        "emb_df = pd.DataFrame(emb_arr,index=targets)\n",
        "emb_df.to_csv(f'/content/drive/My Drive/cloob/clip_cloob_emb_df.vec',sep=' ')"
      ]
    },
    {
      "cell_type": "code",
      "execution_count": 28,
      "metadata": {
        "id": "G0rSaS1mQpRE"
      },
      "outputs": [],
      "source": [
        "#Define text stimuli\n",
        "person = ['person','woman','human','human being','individual','adult']\n",
        "happy = ['happy person','happy woman','happy human','happy human being','happy individual','happy adult']\n",
        "sad = ['sad person','sad woman','sad human','sad human being','sad individual','sad adult']\n",
        "angry = ['angry person','angry woman','angry human','angry human being','angry individual','angry adult']\n",
        "\n",
        "person_ = person + [f'a {i}' for i in person] + [f'a photo of a {i}' for i in person] + [f'an image of a {i}' for i in person] + [f'a picture of a {i}' for i in person]\n",
        "happy_ = happy + [f'a {i}' for i in happy] + [f'a photo of a {i}' for i in happy] + [f'an image of a {i}' for i in happy] + [f'a picture of a {i}' for i in happy]\n",
        "sad_ = sad + [f'a {i}' for i in sad] + [f'a photo of a {i}' for i in sad] + [f'an image of a {i}' for i in sad] + [f'a picture of a {i}' for i in sad]\n",
        "angry_ = angry + [f'an {i}' for i in angry] + [f'a photo of an {i}' for i in angry] + [f'an image of an {i}' for i in angry] + [f'a picture of an {i}' for i in angry]\n",
        "\n",
        "all_words = person_ + happy_ + sad_ + angry_\n",
        "\n",
        "embeddings = []\n",
        "\n",
        "for word in all_words:\n",
        "  with torch.no_grad():\n",
        "    tokens = model.tokenize([word])\n",
        "    emb = model.text_encoder(tokens).numpy().squeeze()\n",
        "    embeddings.append(emb)\n",
        "\n",
        "emb_arr = np.array(embeddings)\n",
        "emb_df = pd.DataFrame(emb_arr,index=all_words)\n",
        "emb_df.to_csv(f'/content/drive/My Drive/cloob/sobem_clip_cloob_emb_lang_df.vec',sep=' ')"
      ]
    },
    {
      "cell_type": "code",
      "execution_count": null,
      "metadata": {
        "colab": {
          "base_uri": "https://localhost:8080/"
        },
        "id": "BhhMpNg4N8R4",
        "outputId": "e4a98b35-949f-462b-bff6-4f037869bc04"
      },
      "outputs": [],
      "source": [
        "SOURCE_DIR = f'/content/drive/My Drive/sobem/Photos/'\n",
        "\n",
        "embeddings, df_index = [],[]\n",
        "\n",
        "for i in range(1,11):\n",
        "  target_dir = f'{SOURCE_DIR}{str(i)}/'\n",
        "  targets = listdir(target_dir)\n",
        "\n",
        "  for target in targets:\n",
        "\n",
        "    print(target)\n",
        "\n",
        "    img = Image.open(f'{target_dir}{target}')\n",
        "    img_ = t_form(img)\n",
        "    input_ = model.normalize(img_).unsqueeze(0)\n",
        "    emb = model.image_encoder(input_).numpy().squeeze()\n",
        "    embeddings.append(emb)\n",
        "    df_index.append(target)\n",
        "\n",
        "emb_arr = np.array(embeddings)\n",
        "emb_df = pd.DataFrame(emb_arr,index=df_index)\n",
        "emb_df.to_csv(f'/content/drive/My Drive/cloob/sobem_clip_cloob_emb_df.vec',sep=' ')"
      ]
    },
    {
      "cell_type": "code",
      "execution_count": 31,
      "metadata": {
        "id": "dtWzxD2yRBqq"
      },
      "outputs": [],
      "source": [
        "#Define text stimuli\n",
        "sex = ['person to have intercourse with','person to be intimate with','person to have sex with','person to kiss','person to undress','person to have coitus with']\n",
        "sex_person = sex + [f'a {i}' for i in sex] + [f'a photo of a {i}' for i in sex] + [f'an image of a {i}' for i in sex] + [f'a picture of a {i}' for i in sex]\n",
        "\n",
        "science = ['scientist','researcher','engineer','physicist','mathematician','chemist']\n",
        "sci_person = science + [f'a {i}' for i in science] + [f'a photo of a {i}' for i in science] + [f'an image of a {i}' for i in science] + [f'a picture of a {i}' for i in science]\n",
        "\n",
        "business = ['businessperson', 'business leader', 'manager', 'executive', 'CEO', 'chief executive officer']\n",
        "bus_person = business + [f'a {i}' for i in business] + [f'a photo of a {i}' for i in business] + [f'an image of a {i}' for i in business] + [f'a picture of a {i}' for i in business]\n",
        "\n",
        "medicine = ['doctor', 'physician', 'clinician','surgeon', 'medical expert', 'health professional']\n",
        "med_person = medicine + [f'a {i}' for i in medicine] + [f'a photo of a {i}' for i in medicine] + [f'an image of a {i}' for i in medicine] + [f'a picture of a {i}' for i in medicine]\n",
        "\n",
        "all_words = sex_person + sci_person + bus_person + med_person\n",
        "\n",
        "embeddings = []\n",
        "\n",
        "for word in all_words:\n",
        "  with torch.no_grad():\n",
        "    tokens = model.tokenize([word])\n",
        "    emb = model.text_encoder(tokens).numpy().squeeze()\n",
        "    embeddings.append(emb)\n",
        "\n",
        "emb_arr = np.array(embeddings)\n",
        "emb_df = pd.DataFrame(emb_arr,index=all_words)\n",
        "emb_df.to_csv(f'/content/drive/My Drive/cloob/profession_clip_cloob_emb_lang_df.vec',sep=' ')"
      ]
    },
    {
      "cell_type": "code",
      "execution_count": 35,
      "metadata": {
        "id": "BtRy2NFlRo8X"
      },
      "outputs": [],
      "source": [
        "SOURCE_DIR = f'/content/drive/My Drive/profession_stimuli/'\n",
        "df_index = []\n",
        "image_embeddings = []\n",
        "\n",
        "professions = ['ceo','doctor','scientist']\n",
        "genders = ['men','women']\n",
        "\n",
        "for profession in professions:\n",
        "    for gender in genders:\n",
        "        target_dir = f'{SOURCE_DIR}{profession}/{gender}/'\n",
        "        imgs = listdir(target_dir)\n",
        "\n",
        "        for idx,img in enumerate(imgs):\n",
        "          image = Image.open(f'{target_dir}{img}')\n",
        "          img_ = t_form(image)\n",
        "          input_ = model.normalize(img_).unsqueeze(0)\n",
        "          with torch.no_grad():\n",
        "            emb = model.image_encoder(input_).numpy().squeeze()\n",
        "          image_embeddings.append(emb)\n",
        "          df_index.append(f'{profession}_{gender}_{img}')\n",
        "\n",
        "image_array = np.array(image_embeddings)\n",
        "image_df = pd.DataFrame(image_array,index=df_index)\n",
        "image_df.to_csv(f'/content/drive/My Drive/cloob/profession_clip_cloob_emb_df.vec',sep=' ')"
      ]
    }
  ],
  "metadata": {
    "accelerator": "GPU",
    "colab": {
      "collapsed_sections": [],
      "name": "cloob_embedding_collector.ipynb",
      "provenance": []
    },
    "kernelspec": {
      "display_name": "Python 3",
      "name": "python3"
    },
    "language_info": {
      "name": "python"
    },
    "widgets": {
      "application/vnd.jupyter.widget-state+json": {
        "115bc3229cde4e189fdfacc237b93464": {
          "model_module": "@jupyter-widgets/controls",
          "model_module_version": "1.5.0",
          "model_name": "HTMLModel",
          "state": {
            "_dom_classes": [],
            "_model_module": "@jupyter-widgets/controls",
            "_model_module_version": "1.5.0",
            "_model_name": "HTMLModel",
            "_view_count": null,
            "_view_module": "@jupyter-widgets/controls",
            "_view_module_version": "1.5.0",
            "_view_name": "HTMLView",
            "description": "",
            "description_tooltip": null,
            "layout": "IPY_MODEL_b1ac6c2c1c0b4bb3845f34c1416accdb",
            "placeholder": "​",
            "style": "IPY_MODEL_cba9d574ddf94fe9a1fc30d7b85d8ceb",
            "value": " 571M/571M [00:09&lt;00:00, 95.2MB/s]"
          }
        },
        "15cb222ea415432b970bd4fa1aabf4b0": {
          "model_module": "@jupyter-widgets/base",
          "model_module_version": "1.2.0",
          "model_name": "LayoutModel",
          "state": {
            "_model_module": "@jupyter-widgets/base",
            "_model_module_version": "1.2.0",
            "_model_name": "LayoutModel",
            "_view_count": null,
            "_view_module": "@jupyter-widgets/base",
            "_view_module_version": "1.2.0",
            "_view_name": "LayoutView",
            "align_content": null,
            "align_items": null,
            "align_self": null,
            "border": null,
            "bottom": null,
            "display": null,
            "flex": null,
            "flex_flow": null,
            "grid_area": null,
            "grid_auto_columns": null,
            "grid_auto_flow": null,
            "grid_auto_rows": null,
            "grid_column": null,
            "grid_gap": null,
            "grid_row": null,
            "grid_template_areas": null,
            "grid_template_columns": null,
            "grid_template_rows": null,
            "height": null,
            "justify_content": null,
            "justify_items": null,
            "left": null,
            "margin": null,
            "max_height": null,
            "max_width": null,
            "min_height": null,
            "min_width": null,
            "object_fit": null,
            "object_position": null,
            "order": null,
            "overflow": null,
            "overflow_x": null,
            "overflow_y": null,
            "padding": null,
            "right": null,
            "top": null,
            "visibility": null,
            "width": null
          }
        },
        "634a87bebbbf48e1974af78ed83531f5": {
          "model_module": "@jupyter-widgets/controls",
          "model_module_version": "1.5.0",
          "model_name": "HTMLModel",
          "state": {
            "_dom_classes": [],
            "_model_module": "@jupyter-widgets/controls",
            "_model_module_version": "1.5.0",
            "_model_name": "HTMLModel",
            "_view_count": null,
            "_view_module": "@jupyter-widgets/controls",
            "_view_module_version": "1.5.0",
            "_view_name": "HTMLView",
            "description": "",
            "description_tooltip": null,
            "layout": "IPY_MODEL_15cb222ea415432b970bd4fa1aabf4b0",
            "placeholder": "​",
            "style": "IPY_MODEL_798a84ce1c324a159688089990ef4be2",
            "value": "100%"
          }
        },
        "798a84ce1c324a159688089990ef4be2": {
          "model_module": "@jupyter-widgets/controls",
          "model_module_version": "1.5.0",
          "model_name": "DescriptionStyleModel",
          "state": {
            "_model_module": "@jupyter-widgets/controls",
            "_model_module_version": "1.5.0",
            "_model_name": "DescriptionStyleModel",
            "_view_count": null,
            "_view_module": "@jupyter-widgets/base",
            "_view_module_version": "1.2.0",
            "_view_name": "StyleView",
            "description_width": ""
          }
        },
        "7d17463c00f544e882e71a826f57bd2d": {
          "model_module": "@jupyter-widgets/base",
          "model_module_version": "1.2.0",
          "model_name": "LayoutModel",
          "state": {
            "_model_module": "@jupyter-widgets/base",
            "_model_module_version": "1.2.0",
            "_model_name": "LayoutModel",
            "_view_count": null,
            "_view_module": "@jupyter-widgets/base",
            "_view_module_version": "1.2.0",
            "_view_name": "LayoutView",
            "align_content": null,
            "align_items": null,
            "align_self": null,
            "border": null,
            "bottom": null,
            "display": null,
            "flex": null,
            "flex_flow": null,
            "grid_area": null,
            "grid_auto_columns": null,
            "grid_auto_flow": null,
            "grid_auto_rows": null,
            "grid_column": null,
            "grid_gap": null,
            "grid_row": null,
            "grid_template_areas": null,
            "grid_template_columns": null,
            "grid_template_rows": null,
            "height": null,
            "justify_content": null,
            "justify_items": null,
            "left": null,
            "margin": null,
            "max_height": null,
            "max_width": null,
            "min_height": null,
            "min_width": null,
            "object_fit": null,
            "object_position": null,
            "order": null,
            "overflow": null,
            "overflow_x": null,
            "overflow_y": null,
            "padding": null,
            "right": null,
            "top": null,
            "visibility": null,
            "width": null
          }
        },
        "7ee70e1f913647ff9d8b4213b235e3c9": {
          "model_module": "@jupyter-widgets/controls",
          "model_module_version": "1.5.0",
          "model_name": "HBoxModel",
          "state": {
            "_dom_classes": [],
            "_model_module": "@jupyter-widgets/controls",
            "_model_module_version": "1.5.0",
            "_model_name": "HBoxModel",
            "_view_count": null,
            "_view_module": "@jupyter-widgets/controls",
            "_view_module_version": "1.5.0",
            "_view_name": "HBoxView",
            "box_style": "",
            "children": [
              "IPY_MODEL_634a87bebbbf48e1974af78ed83531f5",
              "IPY_MODEL_809f1ea6171c4f26b8dc8164d98290a6",
              "IPY_MODEL_115bc3229cde4e189fdfacc237b93464"
            ],
            "layout": "IPY_MODEL_fca5deff846640578a6dd5427647d2a7"
          }
        },
        "809f1ea6171c4f26b8dc8164d98290a6": {
          "model_module": "@jupyter-widgets/controls",
          "model_module_version": "1.5.0",
          "model_name": "FloatProgressModel",
          "state": {
            "_dom_classes": [],
            "_model_module": "@jupyter-widgets/controls",
            "_model_module_version": "1.5.0",
            "_model_name": "FloatProgressModel",
            "_view_count": null,
            "_view_module": "@jupyter-widgets/controls",
            "_view_module_version": "1.5.0",
            "_view_name": "ProgressView",
            "bar_style": "success",
            "description": "",
            "description_tooltip": null,
            "layout": "IPY_MODEL_7d17463c00f544e882e71a826f57bd2d",
            "max": 598499046,
            "min": 0,
            "orientation": "horizontal",
            "style": "IPY_MODEL_c3f5083c6c39468698ed2c2b0c0c4d82",
            "value": 598499046
          }
        },
        "b1ac6c2c1c0b4bb3845f34c1416accdb": {
          "model_module": "@jupyter-widgets/base",
          "model_module_version": "1.2.0",
          "model_name": "LayoutModel",
          "state": {
            "_model_module": "@jupyter-widgets/base",
            "_model_module_version": "1.2.0",
            "_model_name": "LayoutModel",
            "_view_count": null,
            "_view_module": "@jupyter-widgets/base",
            "_view_module_version": "1.2.0",
            "_view_name": "LayoutView",
            "align_content": null,
            "align_items": null,
            "align_self": null,
            "border": null,
            "bottom": null,
            "display": null,
            "flex": null,
            "flex_flow": null,
            "grid_area": null,
            "grid_auto_columns": null,
            "grid_auto_flow": null,
            "grid_auto_rows": null,
            "grid_column": null,
            "grid_gap": null,
            "grid_row": null,
            "grid_template_areas": null,
            "grid_template_columns": null,
            "grid_template_rows": null,
            "height": null,
            "justify_content": null,
            "justify_items": null,
            "left": null,
            "margin": null,
            "max_height": null,
            "max_width": null,
            "min_height": null,
            "min_width": null,
            "object_fit": null,
            "object_position": null,
            "order": null,
            "overflow": null,
            "overflow_x": null,
            "overflow_y": null,
            "padding": null,
            "right": null,
            "top": null,
            "visibility": null,
            "width": null
          }
        },
        "c3f5083c6c39468698ed2c2b0c0c4d82": {
          "model_module": "@jupyter-widgets/controls",
          "model_module_version": "1.5.0",
          "model_name": "ProgressStyleModel",
          "state": {
            "_model_module": "@jupyter-widgets/controls",
            "_model_module_version": "1.5.0",
            "_model_name": "ProgressStyleModel",
            "_view_count": null,
            "_view_module": "@jupyter-widgets/base",
            "_view_module_version": "1.2.0",
            "_view_name": "StyleView",
            "bar_color": null,
            "description_width": ""
          }
        },
        "cba9d574ddf94fe9a1fc30d7b85d8ceb": {
          "model_module": "@jupyter-widgets/controls",
          "model_module_version": "1.5.0",
          "model_name": "DescriptionStyleModel",
          "state": {
            "_model_module": "@jupyter-widgets/controls",
            "_model_module_version": "1.5.0",
            "_model_name": "DescriptionStyleModel",
            "_view_count": null,
            "_view_module": "@jupyter-widgets/base",
            "_view_module_version": "1.2.0",
            "_view_name": "StyleView",
            "description_width": ""
          }
        },
        "fca5deff846640578a6dd5427647d2a7": {
          "model_module": "@jupyter-widgets/base",
          "model_module_version": "1.2.0",
          "model_name": "LayoutModel",
          "state": {
            "_model_module": "@jupyter-widgets/base",
            "_model_module_version": "1.2.0",
            "_model_name": "LayoutModel",
            "_view_count": null,
            "_view_module": "@jupyter-widgets/base",
            "_view_module_version": "1.2.0",
            "_view_name": "LayoutView",
            "align_content": null,
            "align_items": null,
            "align_self": null,
            "border": null,
            "bottom": null,
            "display": null,
            "flex": null,
            "flex_flow": null,
            "grid_area": null,
            "grid_auto_columns": null,
            "grid_auto_flow": null,
            "grid_auto_rows": null,
            "grid_column": null,
            "grid_gap": null,
            "grid_row": null,
            "grid_template_areas": null,
            "grid_template_columns": null,
            "grid_template_rows": null,
            "height": null,
            "justify_content": null,
            "justify_items": null,
            "left": null,
            "margin": null,
            "max_height": null,
            "max_width": null,
            "min_height": null,
            "min_width": null,
            "object_fit": null,
            "object_position": null,
            "order": null,
            "overflow": null,
            "overflow_x": null,
            "overflow_y": null,
            "padding": null,
            "right": null,
            "top": null,
            "visibility": null,
            "width": null
          }
        }
      }
    }
  },
  "nbformat": 4,
  "nbformat_minor": 0
}
